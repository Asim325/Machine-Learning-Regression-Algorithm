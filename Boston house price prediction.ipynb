{
 "cells": [
  {
   "cell_type": "code",
   "execution_count": 38,
   "metadata": {},
   "outputs": [],
   "source": [
    "import numpy as np\n",
    "import pandas as pd\n",
    "import matplotlib.pyplot as plt"
   ]
  },
  {
   "cell_type": "code",
   "execution_count": 39,
   "metadata": {},
   "outputs": [],
   "source": [
    "df1=pd.read_csv(\"D:\\\\dataset\\\\train.csv\")"
   ]
  },
  {
   "cell_type": "code",
   "execution_count": 40,
   "metadata": {},
   "outputs": [
    {
     "data": {
      "text/html": [
       "<div>\n",
       "<style scoped>\n",
       "    .dataframe tbody tr th:only-of-type {\n",
       "        vertical-align: middle;\n",
       "    }\n",
       "\n",
       "    .dataframe tbody tr th {\n",
       "        vertical-align: top;\n",
       "    }\n",
       "\n",
       "    .dataframe thead th {\n",
       "        text-align: right;\n",
       "    }\n",
       "</style>\n",
       "<table border=\"1\" class=\"dataframe\">\n",
       "  <thead>\n",
       "    <tr style=\"text-align: right;\">\n",
       "      <th></th>\n",
       "      <th>Id</th>\n",
       "      <th>MSSubClass</th>\n",
       "      <th>MSZoning</th>\n",
       "      <th>LotFrontage</th>\n",
       "      <th>LotArea</th>\n",
       "      <th>Street</th>\n",
       "      <th>Alley</th>\n",
       "      <th>LotShape</th>\n",
       "      <th>LandContour</th>\n",
       "      <th>Utilities</th>\n",
       "      <th>...</th>\n",
       "      <th>PoolArea</th>\n",
       "      <th>PoolQC</th>\n",
       "      <th>Fence</th>\n",
       "      <th>MiscFeature</th>\n",
       "      <th>MiscVal</th>\n",
       "      <th>MoSold</th>\n",
       "      <th>YrSold</th>\n",
       "      <th>SaleType</th>\n",
       "      <th>SaleCondition</th>\n",
       "      <th>SalePrice</th>\n",
       "    </tr>\n",
       "  </thead>\n",
       "  <tbody>\n",
       "    <tr>\n",
       "      <th>0</th>\n",
       "      <td>1</td>\n",
       "      <td>60</td>\n",
       "      <td>RL</td>\n",
       "      <td>65.0</td>\n",
       "      <td>8450</td>\n",
       "      <td>Pave</td>\n",
       "      <td>NaN</td>\n",
       "      <td>Reg</td>\n",
       "      <td>Lvl</td>\n",
       "      <td>AllPub</td>\n",
       "      <td>...</td>\n",
       "      <td>0</td>\n",
       "      <td>NaN</td>\n",
       "      <td>NaN</td>\n",
       "      <td>NaN</td>\n",
       "      <td>0</td>\n",
       "      <td>2</td>\n",
       "      <td>2008</td>\n",
       "      <td>WD</td>\n",
       "      <td>Normal</td>\n",
       "      <td>208500</td>\n",
       "    </tr>\n",
       "    <tr>\n",
       "      <th>1</th>\n",
       "      <td>2</td>\n",
       "      <td>20</td>\n",
       "      <td>RL</td>\n",
       "      <td>80.0</td>\n",
       "      <td>9600</td>\n",
       "      <td>Pave</td>\n",
       "      <td>NaN</td>\n",
       "      <td>Reg</td>\n",
       "      <td>Lvl</td>\n",
       "      <td>AllPub</td>\n",
       "      <td>...</td>\n",
       "      <td>0</td>\n",
       "      <td>NaN</td>\n",
       "      <td>NaN</td>\n",
       "      <td>NaN</td>\n",
       "      <td>0</td>\n",
       "      <td>5</td>\n",
       "      <td>2007</td>\n",
       "      <td>WD</td>\n",
       "      <td>Normal</td>\n",
       "      <td>181500</td>\n",
       "    </tr>\n",
       "    <tr>\n",
       "      <th>2</th>\n",
       "      <td>3</td>\n",
       "      <td>60</td>\n",
       "      <td>RL</td>\n",
       "      <td>68.0</td>\n",
       "      <td>11250</td>\n",
       "      <td>Pave</td>\n",
       "      <td>NaN</td>\n",
       "      <td>IR1</td>\n",
       "      <td>Lvl</td>\n",
       "      <td>AllPub</td>\n",
       "      <td>...</td>\n",
       "      <td>0</td>\n",
       "      <td>NaN</td>\n",
       "      <td>NaN</td>\n",
       "      <td>NaN</td>\n",
       "      <td>0</td>\n",
       "      <td>9</td>\n",
       "      <td>2008</td>\n",
       "      <td>WD</td>\n",
       "      <td>Normal</td>\n",
       "      <td>223500</td>\n",
       "    </tr>\n",
       "    <tr>\n",
       "      <th>3</th>\n",
       "      <td>4</td>\n",
       "      <td>70</td>\n",
       "      <td>RL</td>\n",
       "      <td>60.0</td>\n",
       "      <td>9550</td>\n",
       "      <td>Pave</td>\n",
       "      <td>NaN</td>\n",
       "      <td>IR1</td>\n",
       "      <td>Lvl</td>\n",
       "      <td>AllPub</td>\n",
       "      <td>...</td>\n",
       "      <td>0</td>\n",
       "      <td>NaN</td>\n",
       "      <td>NaN</td>\n",
       "      <td>NaN</td>\n",
       "      <td>0</td>\n",
       "      <td>2</td>\n",
       "      <td>2006</td>\n",
       "      <td>WD</td>\n",
       "      <td>Abnorml</td>\n",
       "      <td>140000</td>\n",
       "    </tr>\n",
       "    <tr>\n",
       "      <th>4</th>\n",
       "      <td>5</td>\n",
       "      <td>60</td>\n",
       "      <td>RL</td>\n",
       "      <td>84.0</td>\n",
       "      <td>14260</td>\n",
       "      <td>Pave</td>\n",
       "      <td>NaN</td>\n",
       "      <td>IR1</td>\n",
       "      <td>Lvl</td>\n",
       "      <td>AllPub</td>\n",
       "      <td>...</td>\n",
       "      <td>0</td>\n",
       "      <td>NaN</td>\n",
       "      <td>NaN</td>\n",
       "      <td>NaN</td>\n",
       "      <td>0</td>\n",
       "      <td>12</td>\n",
       "      <td>2008</td>\n",
       "      <td>WD</td>\n",
       "      <td>Normal</td>\n",
       "      <td>250000</td>\n",
       "    </tr>\n",
       "  </tbody>\n",
       "</table>\n",
       "<p>5 rows × 81 columns</p>\n",
       "</div>"
      ],
      "text/plain": [
       "   Id  MSSubClass MSZoning  LotFrontage  LotArea Street Alley LotShape  \\\n",
       "0   1          60       RL         65.0     8450   Pave   NaN      Reg   \n",
       "1   2          20       RL         80.0     9600   Pave   NaN      Reg   \n",
       "2   3          60       RL         68.0    11250   Pave   NaN      IR1   \n",
       "3   4          70       RL         60.0     9550   Pave   NaN      IR1   \n",
       "4   5          60       RL         84.0    14260   Pave   NaN      IR1   \n",
       "\n",
       "  LandContour Utilities  ... PoolArea PoolQC Fence MiscFeature MiscVal MoSold  \\\n",
       "0         Lvl    AllPub  ...        0    NaN   NaN         NaN       0      2   \n",
       "1         Lvl    AllPub  ...        0    NaN   NaN         NaN       0      5   \n",
       "2         Lvl    AllPub  ...        0    NaN   NaN         NaN       0      9   \n",
       "3         Lvl    AllPub  ...        0    NaN   NaN         NaN       0      2   \n",
       "4         Lvl    AllPub  ...        0    NaN   NaN         NaN       0     12   \n",
       "\n",
       "  YrSold  SaleType  SaleCondition  SalePrice  \n",
       "0   2008        WD         Normal     208500  \n",
       "1   2007        WD         Normal     181500  \n",
       "2   2008        WD         Normal     223500  \n",
       "3   2006        WD        Abnorml     140000  \n",
       "4   2008        WD         Normal     250000  \n",
       "\n",
       "[5 rows x 81 columns]"
      ]
     },
     "execution_count": 40,
     "metadata": {},
     "output_type": "execute_result"
    }
   ],
   "source": [
    "df1.head(5)"
   ]
  },
  {
   "cell_type": "code",
   "execution_count": 41,
   "metadata": {},
   "outputs": [
    {
     "data": {
      "text/plain": [
       "6965"
      ]
     },
     "execution_count": 41,
     "metadata": {},
     "output_type": "execute_result"
    }
   ],
   "source": [
    "df1.isnull().sum().sum()"
   ]
  },
  {
   "cell_type": "code",
   "execution_count": 42,
   "metadata": {},
   "outputs": [
    {
     "data": {
      "text/plain": [
       "Id                1\n",
       "MSSubClass        1\n",
       "LotFrontage       4\n",
       "LotArea           2\n",
       "OverallQual      13\n",
       "OverallCond       1\n",
       "YearBuilt         8\n",
       "YearRemodAdd      7\n",
       "MasVnrArea        3\n",
       "BsmtFinSF1        4\n",
       "BsmtFinSF2        1\n",
       "BsmtUnfSF         2\n",
       "TotalBsmtSF       9\n",
       "1stFlrSF         11\n",
       "2ndFlrSF          6\n",
       "LowQualFinSF      1\n",
       "GrLivArea        14\n",
       "BsmtFullBath      2\n",
       "BsmtHalfBath      1\n",
       "FullBath         11\n",
       "HalfBath          3\n",
       "BedroomAbvGr      4\n",
       "KitchenAbvGr      1\n",
       "TotRmsAbvGrd      8\n",
       "Fireplaces        4\n",
       "GarageYrBlt       8\n",
       "GarageCars       11\n",
       "GarageArea       10\n",
       "WoodDeckSF        1\n",
       "OpenPorchSF       1\n",
       "EnclosedPorch     1\n",
       "3SsnPorch         1\n",
       "ScreenPorch       1\n",
       "PoolArea          1\n",
       "MiscVal           1\n",
       "MoSold            1\n",
       "YrSold            1\n",
       "SalePrice        14\n",
       "dtype: int64"
      ]
     },
     "execution_count": 42,
     "metadata": {},
     "output_type": "execute_result"
    }
   ],
   "source": [
    "(df1.corr()>0.4).sum()"
   ]
  },
  {
   "cell_type": "code",
   "execution_count": 128,
   "metadata": {},
   "outputs": [],
   "source": [
    "x=df1[['GrLivArea']]"
   ]
  },
  {
   "cell_type": "code",
   "execution_count": 129,
   "metadata": {},
   "outputs": [],
   "source": [
    "y=df1[['SalePrice']]"
   ]
  },
  {
   "cell_type": "code",
   "execution_count": 130,
   "metadata": {},
   "outputs": [],
   "source": [
    "from sklearn.model_selection import train_test_split"
   ]
  },
  {
   "cell_type": "code",
   "execution_count": 213,
   "metadata": {},
   "outputs": [],
   "source": [
    "x_train,x_test,y_train,y_test=train_test_split(x,y,test_size=0.2,random_state=)"
   ]
  },
  {
   "cell_type": "code",
   "execution_count": 214,
   "metadata": {},
   "outputs": [],
   "source": [
    "#Training \n",
    "from sklearn.linear_model import LinearRegression\n"
   ]
  },
  {
   "cell_type": "code",
   "execution_count": 215,
   "metadata": {},
   "outputs": [
    {
     "data": {
      "text/plain": [
       "LinearRegression()"
      ]
     },
     "execution_count": 215,
     "metadata": {},
     "output_type": "execute_result"
    }
   ],
   "source": [
    "model=LinearRegression()\n",
    "model.fit(x_train,y_train)"
   ]
  },
  {
   "cell_type": "code",
   "execution_count": 216,
   "metadata": {},
   "outputs": [
    {
     "name": "stdout",
     "output_type": "stream",
     "text": [
      "[[243714.56700277]\n",
      " [162822.04936746]\n",
      " [126811.15052458]\n",
      " ...\n",
      " [197354.49488541]\n",
      " [153106.49894651]\n",
      " [224600.27758764]]\n"
     ]
    }
   ],
   "source": [
    "y_pred=model.predict(x_train)\n",
    "print(y_pred)"
   ]
  },
  {
   "cell_type": "code",
   "execution_count": 217,
   "metadata": {},
   "outputs": [
    {
     "name": "stdout",
     "output_type": "stream",
     "text": [
      "[[201367.4396245 ]\n",
      " [147615.10088249]\n",
      " [235371.86609783]\n",
      " [112977.05155562]\n",
      " [182992.37687183]\n",
      " [114033.08964485]\n",
      " [203796.32722973]\n",
      " [205908.4034082 ]\n",
      " [ 87420.92979616]\n",
      " [182358.75401829]\n",
      " [170425.52360994]\n",
      " [149093.55420742]\n",
      " [214990.33097561]\n",
      " [225022.69282334]\n",
      " [110442.56014146]\n",
      " [117306.80772148]\n",
      " [170214.3159921 ]\n",
      " [127022.35814243]\n",
      " [165356.54078162]\n",
      " [196298.45679617]\n",
      " [298945.35906971]\n",
      " [174649.67596688]\n",
      " [155429.78274282]\n",
      " [177289.77118996]\n",
      " [203373.91199404]\n",
      " [287645.7515149 ]\n",
      " [190384.64349646]\n",
      " [262723.25260898]\n",
      " [140011.62664001]\n",
      " [136526.70094554]\n",
      " [271805.1801764 ]\n",
      " [123326.22483011]\n",
      " [323762.2541667 ]\n",
      " [266841.801157  ]\n",
      " [124487.86672827]\n",
      " [117201.20391256]\n",
      " [249733.98411141]\n",
      " [122270.18674088]\n",
      " [151416.83800373]\n",
      " [140011.62664001]\n",
      " [142546.11805417]\n",
      " [269904.31161578]\n",
      " [222699.40902702]\n",
      " [166834.99410655]\n",
      " [100515.80210266]\n",
      " [156908.23606775]\n",
      " [274656.48301733]\n",
      " [238223.16893876]\n",
      " [187005.32161092]\n",
      " [115300.33535193]\n",
      " [103261.50113467]\n",
      " [125438.30100858]\n",
      " [147615.10088249]\n",
      " [176233.73310073]\n",
      " [110442.56014146]\n",
      " [112132.22108423]\n",
      " [ 91856.28977094]\n",
      " [154796.15988928]\n",
      " [199466.57106387]\n",
      " [186899.71780199]\n",
      " [130718.49145475]\n",
      " [112132.22108423]\n",
      " [244665.00128309]\n",
      " [182041.94259152]\n",
      " [213511.87765069]\n",
      " [243714.56700277]\n",
      " [125227.09339073]\n",
      " [154162.53703574]\n",
      " [207598.06435098]\n",
      " [193024.73871955]\n",
      " [ 91856.28977094]\n",
      " [125015.88577289]\n",
      " [210132.55576514]\n",
      " [218580.86047901]\n",
      " [152895.29132866]\n",
      " [191335.07777677]\n",
      " [184365.22638783]\n",
      " [195348.02251586]\n",
      " [193447.15395524]\n",
      " [196087.24917833]\n",
      " [172115.18455272]\n",
      " [171692.76931702]\n",
      " [136632.30475446]\n",
      " [155640.99036067]\n",
      " [230725.2985052 ]\n",
      " [221960.18236456]\n",
      " [203373.91199404]\n",
      " [184259.62257891]\n",
      " [216257.57668269]\n",
      " [324184.6694024 ]\n",
      " [206858.83768851]\n",
      " [115300.33535193]\n",
      " [227134.7690018 ]\n",
      " [296727.67908232]\n",
      " [163244.46460315]\n",
      " [270537.93446932]\n",
      " [165039.72935485]\n",
      " [130084.86860121]\n",
      " [152472.87609297]\n",
      " [108858.50300761]\n",
      " [185210.05685922]\n",
      " [166729.39029762]\n",
      " [187005.32161092]\n",
      " [185949.28352168]\n",
      " [179507.45117735]\n",
      " [257759.87358959]\n",
      " [150783.21515019]\n",
      " [132408.15239752]\n",
      " [297783.71717155]\n",
      " [214039.8966953 ]\n",
      " [174649.67596688]\n",
      " [187533.34065553]\n",
      " [233470.99753721]\n",
      " [216785.59572731]\n",
      " [174332.86454011]\n",
      " [134203.41714922]\n",
      " [239807.22607261]\n",
      " [287645.7515149 ]\n",
      " [195242.41870694]\n",
      " [256809.43930928]\n",
      " [180246.67783982]\n",
      " [272227.59541209]\n",
      " [191546.28539462]\n",
      " [276240.54015118]\n",
      " [180035.47022197]\n",
      " [138955.58855077]\n",
      " [136209.88951877]\n",
      " [114455.50488055]\n",
      " [132196.94477968]\n",
      " [194080.77680878]\n",
      " [109386.52205222]\n",
      " [229035.63756242]\n",
      " [234421.43181752]\n",
      " [162716.44555854]\n",
      " [225339.50425011]\n",
      " [259766.34595913]\n",
      " [161977.21889607]\n",
      " [248677.94602217]\n",
      " [110442.56014146]\n",
      " [117201.20391256]\n",
      " [235055.05467106]\n",
      " [227768.39185534]\n",
      " [255753.40122004]\n",
      " [200522.60915311]\n",
      " [134731.43619384]\n",
      " [271382.7649407 ]\n",
      " [201473.04343342]\n",
      " [134097.8133403 ]\n",
      " [256387.02407358]\n",
      " [201261.83581557]\n",
      " [184576.43400568]\n",
      " [147192.6856468 ]\n",
      " [ 94179.57356726]\n",
      " [168735.86266717]\n",
      " [143179.74090771]\n",
      " [194503.19204448]\n",
      " [146770.2704111 ]\n",
      " [208231.68720452]\n",
      " [234104.62039075]\n",
      " [194714.39966232]\n",
      " [137054.71999015]\n",
      " [156485.82083206]\n",
      " [171481.56169918]\n",
      " [122058.97912303]\n",
      " [115300.33535193]\n",
      " [125121.48958181]\n",
      " [125438.30100858]\n",
      " [194820.00347125]\n",
      " [223649.84330733]\n",
      " [112132.22108423]\n",
      " [159865.1427176 ]\n",
      " [216046.36906485]\n",
      " [189117.39778938]\n",
      " [150783.21515019]\n",
      " [ 84780.83457307]\n",
      " [198304.92916572]\n",
      " [213934.29288638]\n",
      " [194714.39966232]\n",
      " [171059.14646348]\n",
      " [160287.5579533 ]\n",
      " [129873.66098336]\n",
      " [104317.5392239 ]\n",
      " [159865.1427176 ]\n",
      " [181408.31973798]\n",
      " [150360.7999145 ]\n",
      " [150149.59229665]\n",
      " [121002.9410338 ]\n",
      " [133041.77525106]\n",
      " [221009.74808425]\n",
      " [110442.56014146]\n",
      " [173171.22264195]\n",
      " [145291.81708618]\n",
      " [177606.58261673]\n",
      " [152895.29132866]\n",
      " [202529.08152265]\n",
      " [135576.26666522]\n",
      " [165356.54078162]\n",
      " [318904.47895623]\n",
      " [141701.28758278]\n",
      " [ 87420.92979616]\n",
      " [201473.04343342]\n",
      " [197248.89107648]\n",
      " [226606.74995719]\n",
      " [244031.37842954]\n",
      " [187110.92541984]\n",
      " [130718.49145475]\n",
      " [115300.33535193]\n",
      " [136737.90856338]\n",
      " [173171.22264195]\n",
      " [175916.92167396]\n",
      " [148459.93135388]\n",
      " [150043.98848773]\n",
      " [205697.19579035]\n",
      " [133569.79429568]\n",
      " [180563.48926659]\n",
      " [213089.46241499]\n",
      " [232309.35563905]\n",
      " [196192.85298725]\n",
      " [176550.5445275 ]\n",
      " [192602.32348385]\n",
      " [179824.26260412]\n",
      " [157541.85892129]\n",
      " [140750.85330247]\n",
      " [270643.53827824]\n",
      " [208759.70624913]\n",
      " [242341.71748677]\n",
      " [205697.19579035]\n",
      " [216891.19953623]\n",
      " [158809.10462837]\n",
      " [287012.12866136]\n",
      " [196826.47584079]\n",
      " [116356.37344117]\n",
      " [262828.85641791]\n",
      " [171481.56169918]\n",
      " [198516.13678356]\n",
      " [112132.22108423]\n",
      " [209710.14052944]\n",
      " [116356.37344117]\n",
      " [176656.14833642]\n",
      " [208442.89482236]\n",
      " [212244.6319436 ]\n",
      " [158386.68939268]\n",
      " [148459.93135388]\n",
      " [104211.93541498]\n",
      " [134731.43619384]\n",
      " [208442.89482236]\n",
      " [180246.67783982]\n",
      " [115300.33535193]\n",
      " [224494.67377872]\n",
      " [179718.6587952 ]\n",
      " [187744.54827338]\n",
      " [138533.17331508]\n",
      " [154373.74465359]\n",
      " [142757.32567202]\n",
      " [110442.56014146]\n",
      " [132091.34097075]\n",
      " [170003.10837425]\n",
      " [211082.99004545]\n",
      " [179401.84736843]\n",
      " [139800.41902216]\n",
      " [107063.23825591]\n",
      " [296516.47146447]\n",
      " [295038.01813954]\n",
      " [147615.10088249]\n",
      " [184893.24543245]\n",
      " [190067.83206969]\n",
      " [158281.08558375]\n",
      " [243925.77462062]\n",
      " [240546.45273507]\n",
      " [126916.75433351]\n",
      " [182992.37687183]\n",
      " [149832.78086988]\n",
      " [163983.69126562]\n",
      " [163244.46460315]\n",
      " [122270.18674088]\n",
      " [101994.25542759]\n",
      " [131457.71811721]\n",
      " [101994.25542759]\n",
      " [131140.90669044]\n",
      " [149410.36563419]\n",
      " [142334.91043632]\n",
      " [236955.92323168]\n",
      " [292925.94196107]\n",
      " [104528.74684175]\n",
      " [193235.9463374 ]\n",
      " [152684.08371081]\n",
      " [228085.20328211]\n",
      " [132408.15239752]\n",
      " [148037.51611818]\n",
      " [246671.47365263]\n",
      " [112132.22108423]\n",
      " [204429.95008327]]\n"
     ]
    }
   ],
   "source": [
    "y_pred=model.predict(x_test)\n",
    "print(y_pred)"
   ]
  },
  {
   "cell_type": "code",
   "execution_count": 218,
   "metadata": {},
   "outputs": [
    {
     "data": {
      "image/png": "[encoded data removed]",
      "text/plain": [
       "<Figure size 432x288 with 1 Axes>"
      ]
     },
     "metadata": {
      "needs_background": "light"
     },
     "output_type": "display_data"
    }
   ],
   "source": [
    "#Visualizing the Training set result\n",
    "#y_test contain the real salary and y_pred contain the predicted salary\n",
    "#We will plot the red plots for real salaries and blue straight lines for predicted salaries\n",
    "plt.scatter(x_train,y_train,color='red')\n",
    "plt.plot(x_train,model.predict(x_train),color='blue')\n",
    "plt.title(\"House Price Prediction  (Training Set)\")\n",
    "plt.xlabel(\"Area\")\n",
    "plt.ylabel(\"Price\")\n",
    "plt.show()"
   ]
  },
  {
   "cell_type": "code",
   "execution_count": 219,
   "metadata": {},
   "outputs": [
    {
     "data": {
      "image/png": "[encoded data removed]",
      "text/plain": [
       "<Figure size 432x288 with 1 Axes>"
      ]
     },
     "metadata": {
      "needs_background": "light"
     },
     "output_type": "display_data"
    }
   ],
   "source": [
    "#Visulaize the Test Set Result\n",
    "plt.scatter(x_test,y_test,color='red')\n",
    "plt.plot(x_test,model.predict(x_test),color='blue')\n",
    "plt.title(\"House Price Prediction (Test Set)\")\n",
    "plt.xlabel(\"Area\")\n",
    "plt.ylabel(\"Price\")\n",
    "plt.show()"
   ]
  },
  {
   "cell_type": "code",
   "execution_count": 220,
   "metadata": {},
   "outputs": [
    {
     "data": {
      "text/plain": [
       "0.4710703552512888"
      ]
     },
     "execution_count": 220,
     "metadata": {},
     "output_type": "execute_result"
    }
   ],
   "source": [
    "model.score(x_test,y_test)"
   ]
  },
  {
   "cell_type": "code",
   "execution_count": 221,
   "metadata": {},
   "outputs": [],
   "source": [
    "from sklearn.preprocessing import StandardScaler"
   ]
  },
  {
   "cell_type": "code",
   "execution_count": 203,
   "metadata": {},
   "outputs": [
    {
     "data": {
      "text/plain": [
       "array([[-0.05012894],\n",
       "       [-0.76622394],\n",
       "       [ 1.65342336],\n",
       "       ...,\n",
       "       [ 2.24702843],\n",
       "       [-0.07274247],\n",
       "       [ 0.84687426]])"
      ]
     },
     "execution_count": 203,
     "metadata": {},
     "output_type": "execute_result"
    }
   ],
   "source": [
    "scaler = StandardScaler()\n",
    "x_std = scaler.fit_transform(x_train)\n",
    "x_std"
   ]
  },
  {
   "cell_type": "markdown",
   "metadata": {},
   "source": [
    "# Multivariate Regression\n"
   ]
  },
  {
   "cell_type": "code",
   "execution_count": 171,
   "metadata": {},
   "outputs": [],
   "source": [
    "x2= df1[['OverallQual', '1stFlrSF', 'GrLivArea', 'FullBath', 'GarageCars', 'GarageArea']]\n",
    "y2= df1[['SalePrice']]"
   ]
  },
  {
   "cell_type": "code",
   "execution_count": 290,
   "metadata": {},
   "outputs": [],
   "source": [
    "mxtrain, mxtest, mytrain, mytest = train_test_split(x2,y2, random_state = 50, shuffle  = True, test_size = 0.2)"
   ]
  },
  {
   "cell_type": "markdown",
   "metadata": {},
   "source": [
    "\n",
    "\n"
   ]
  },
  {
   "cell_type": "code",
   "execution_count": null,
   "metadata": {},
   "outputs": [],
   "source": []
  },
  {
   "cell_type": "code",
   "execution_count": 291,
   "metadata": {},
   "outputs": [],
   "source": [
    "from sklearn.linear_model import LinearRegression"
   ]
  },
  {
   "cell_type": "code",
   "execution_count": 292,
   "metadata": {},
   "outputs": [
    {
     "data": {
      "text/plain": [
       "LinearRegression()"
      ]
     },
     "execution_count": 292,
     "metadata": {},
     "output_type": "execute_result"
    }
   ],
   "source": [
    "model2=LinearRegression()\n",
    "model2.fit(mxtrain,mytrain)"
   ]
  },
  {
   "cell_type": "code",
   "execution_count": 293,
   "metadata": {},
   "outputs": [
    {
     "name": "stdout",
     "output_type": "stream",
     "text": [
      "[[202409.28613978]\n",
      " [ 53157.96169079]\n",
      " [115719.06352197]\n",
      " ...\n",
      " [153735.4420886 ]\n",
      " [327942.21886082]\n",
      " [217192.7717085 ]]\n"
     ]
    }
   ],
   "source": [
    "y_pred=model2.predict(mxtrain)\n",
    "print(y_pred)"
   ]
  },
  {
   "cell_type": "code",
   "execution_count": 294,
   "metadata": {},
   "outputs": [
    {
     "name": "stdout",
     "output_type": "stream",
     "text": [
      "[[257174.82677689]\n",
      " [195257.13286891]\n",
      " [116522.36845526]\n",
      " [ 85796.01437558]\n",
      " [298198.69971353]\n",
      " [179829.14113528]\n",
      " [160434.55543882]\n",
      " [162259.39255458]\n",
      " [165964.13980569]\n",
      " [191710.48396079]\n",
      " [120988.94663885]\n",
      " [191217.51322334]\n",
      " [ -3332.40230586]\n",
      " [168467.93400627]\n",
      " [211813.58191631]\n",
      " [245625.68078386]\n",
      " [206429.08383862]\n",
      " [185480.84230186]\n",
      " [310078.55724983]\n",
      " [160070.57175952]\n",
      " [207844.55172325]\n",
      " [396259.93850875]\n",
      " [115673.95873683]\n",
      " [221135.71567659]\n",
      " [143976.13544241]\n",
      " [181819.66057038]\n",
      " [243179.14805275]\n",
      " [107085.59813852]\n",
      " [305085.65905292]\n",
      " [293290.73168366]\n",
      " [137298.16880041]\n",
      " [105282.30771775]\n",
      " [200929.15153258]\n",
      " [110737.99021765]\n",
      " [125019.12220095]\n",
      " [121590.59910293]\n",
      " [189385.03741321]\n",
      " [185873.99452198]\n",
      " [113363.81132616]\n",
      " [109408.61029651]\n",
      " [ 95606.76794044]\n",
      " [192476.36260866]\n",
      " [142652.44280938]\n",
      " [212937.71559052]\n",
      " [130906.36358983]\n",
      " [329351.07466713]\n",
      " [188917.16298488]\n",
      " [226525.97933141]\n",
      " [182242.21206754]\n",
      " [205853.7851096 ]\n",
      " [208275.20897554]\n",
      " [246519.25120109]\n",
      " [183026.71211414]\n",
      " [143192.20003684]\n",
      " [298204.00806229]\n",
      " [209035.74816585]\n",
      " [118782.72478111]\n",
      " [105282.30771775]\n",
      " [344294.70600455]\n",
      " [366544.50010591]\n",
      " [134671.08008799]\n",
      " [171227.01508194]\n",
      " [205202.29953179]\n",
      " [116788.58904702]\n",
      " [287232.14017537]\n",
      " [166172.4370531 ]\n",
      " [ 82235.65194633]\n",
      " [173204.69083498]\n",
      " [105225.39123447]\n",
      " [116498.44796794]\n",
      " [192309.97473881]\n",
      " [249313.98122279]\n",
      " [102216.63708167]\n",
      " [165720.64261859]\n",
      " [217092.93898658]\n",
      " [150210.3166313 ]\n",
      " [353747.65297436]\n",
      " [118445.52720397]\n",
      " [200666.9162451 ]\n",
      " [148235.36125603]\n",
      " [171182.06094496]\n",
      " [ 49115.66289854]\n",
      " [239574.45578434]\n",
      " [173534.67415076]\n",
      " [233212.05347995]\n",
      " [390948.27554495]\n",
      " [218170.79493802]\n",
      " [ 42071.83000389]\n",
      " [ 87310.16287121]\n",
      " [ 87103.92206373]\n",
      " [154533.87067675]\n",
      " [ 55112.36677888]\n",
      " [199697.707532  ]\n",
      " [155162.64111436]\n",
      " [216714.4973103 ]\n",
      " [183134.92472684]\n",
      " [203208.86341972]\n",
      " [210967.92878835]\n",
      " [192975.52621822]\n",
      " [168138.03625653]\n",
      " [127162.05985371]\n",
      " [142713.57360401]\n",
      " [247823.27370776]\n",
      " [268796.05935781]\n",
      " [103590.64851638]\n",
      " [183441.38128021]\n",
      " [136917.31864955]\n",
      " [105278.27954001]\n",
      " [200271.94693746]\n",
      " [121766.24706216]\n",
      " [190492.09243884]\n",
      " [304223.08610996]\n",
      " [178173.27661431]\n",
      " [139378.71043157]\n",
      " [ 75031.28261237]\n",
      " [174978.71376427]\n",
      " [123769.92496195]\n",
      " [167488.14001227]\n",
      " [116042.08400345]\n",
      " [230434.02334767]\n",
      " [138578.32330005]\n",
      " [ 94110.3513101 ]\n",
      " [260424.89739141]\n",
      " [270967.34046746]\n",
      " [245861.34695213]\n",
      " [134344.15577883]\n",
      " [106861.26944367]\n",
      " [174306.61662581]\n",
      " [ 91929.1803645 ]\n",
      " [225583.5419353 ]\n",
      " [201503.78608231]\n",
      " [208535.10626429]\n",
      " [181780.38973515]\n",
      " [290838.22074987]\n",
      " [281350.85042893]\n",
      " [148542.43388998]\n",
      " [179985.03242201]\n",
      " [152677.82602466]\n",
      " [184742.7344836 ]\n",
      " [227739.45766811]\n",
      " [296589.39207331]\n",
      " [200460.52085392]\n",
      " [184839.16780566]\n",
      " [217704.6757153 ]\n",
      " [209050.33431494]\n",
      " [162603.82644923]\n",
      " [126869.44521674]\n",
      " [169525.94212094]\n",
      " [177339.45807299]\n",
      " [276176.53745723]\n",
      " [148772.95517414]\n",
      " [351829.66468539]\n",
      " [155037.88973167]\n",
      " [184369.72599691]\n",
      " [304999.19631753]\n",
      " [118255.04267248]\n",
      " [ 97275.14821563]\n",
      " [ 84280.49970783]\n",
      " [180288.77557418]\n",
      " [111157.05618694]\n",
      " [ 58521.96260146]\n",
      " [ 79796.41697958]\n",
      " [290480.81824848]\n",
      " [115233.90015707]\n",
      " [296916.71322472]\n",
      " [319430.53888741]\n",
      " [219020.58853292]\n",
      " [216551.42900582]\n",
      " [311544.83470096]\n",
      " [117930.59983023]\n",
      " [259466.9699001 ]\n",
      " [ 92949.06359948]\n",
      " [150305.04843486]\n",
      " [ 97284.43796502]\n",
      " [ 84431.40523899]\n",
      " [267935.06631747]\n",
      " [252324.79413408]\n",
      " [158913.6736149 ]\n",
      " [290823.42616807]\n",
      " [290748.26725064]\n",
      " [203396.95882338]\n",
      " [296895.59724403]\n",
      " [229388.61529997]\n",
      " [ 97160.29090735]\n",
      " [132449.05710019]\n",
      " [152094.52011351]\n",
      " [113541.10546458]\n",
      " [190529.7355535 ]\n",
      " [128386.88217373]\n",
      " [119477.58974938]\n",
      " [112419.69223779]\n",
      " [163847.57872372]\n",
      " [194894.60177734]\n",
      " [278343.72388217]\n",
      " [240904.28138772]\n",
      " [ 90703.49276474]\n",
      " [209326.09677221]\n",
      " [168201.10377995]\n",
      " [194846.69552201]\n",
      " [236613.13352871]\n",
      " [190939.88800633]\n",
      " [181854.6432519 ]\n",
      " [224830.31123687]\n",
      " [152438.92270745]\n",
      " [232238.13260279]\n",
      " [215617.9804758 ]\n",
      " [170403.94855135]\n",
      " [206479.6493837 ]\n",
      " [ 27295.91578402]\n",
      " [122437.33528937]\n",
      " [234926.68206251]\n",
      " [223667.09351368]\n",
      " [221613.10487537]\n",
      " [241116.34726424]\n",
      " [187310.88735273]\n",
      " [152310.37353719]\n",
      " [120444.32566652]\n",
      " [169100.33488701]\n",
      " [ 76142.41845634]\n",
      " [137003.77025532]\n",
      " [215689.156746  ]\n",
      " [140905.57500654]\n",
      " [201748.43739914]\n",
      " [190024.96133478]\n",
      " [197959.35805856]\n",
      " [161678.39806463]\n",
      " [177979.98617722]\n",
      " [ 83537.26688385]\n",
      " [207006.2682537 ]\n",
      " [305881.29948586]\n",
      " [263327.38760792]\n",
      " [179921.97306457]\n",
      " [221398.36983245]\n",
      " [133677.23336101]\n",
      " [218304.24639266]\n",
      " [185296.62254071]\n",
      " [213258.22897107]\n",
      " [270479.94970192]\n",
      " [120458.71261485]\n",
      " [217478.61390771]\n",
      " [195142.0943899 ]\n",
      " [130965.12753554]\n",
      " [107627.80233677]\n",
      " [ 81872.29375886]\n",
      " [169399.21592384]\n",
      " [140501.18928087]\n",
      " [108829.92339258]\n",
      " [155037.88973167]\n",
      " [114435.23838178]\n",
      " [121817.91293681]\n",
      " [241171.45589194]\n",
      " [168618.11099073]\n",
      " [136167.541137  ]\n",
      " [154823.73561577]\n",
      " [207645.52579653]\n",
      " [109293.41836962]\n",
      " [184210.79820739]\n",
      " [ 99965.70353784]\n",
      " [136208.50745419]\n",
      " [121899.35735804]\n",
      " [290136.56043149]\n",
      " [253693.66059694]\n",
      " [ 98542.48199623]\n",
      " [123023.48006796]\n",
      " [146682.10263586]\n",
      " [224830.72433395]\n",
      " [203900.08189185]\n",
      " [214857.42862136]\n",
      " [ 63397.87017255]\n",
      " [200643.66700408]\n",
      " [241636.40341852]\n",
      " [207240.03601534]\n",
      " [207344.22487931]\n",
      " [188246.1275524 ]\n",
      " [181454.80633394]\n",
      " [101299.24022857]\n",
      " [107241.323002  ]\n",
      " [ 83584.20122515]\n",
      " [ 47275.29991319]\n",
      " [175960.19973661]\n",
      " [188927.74347291]\n",
      " [126327.49150689]\n",
      " [242656.72909438]\n",
      " [ 42981.11961403]\n",
      " [187826.50118422]\n",
      " [249774.59793022]\n",
      " [224240.1477889 ]\n",
      " [229291.13779879]\n",
      " [300435.63845063]\n",
      " [291815.02943673]\n",
      " [233925.07042679]\n",
      " [183828.0178697 ]]\n"
     ]
    }
   ],
   "source": [
    "y_pred=model2.predict(mxtest)\n",
    "print(y_pred)"
   ]
  },
  {
   "cell_type": "code",
   "execution_count": 295,
   "metadata": {},
   "outputs": [
    {
     "data": {
      "text/plain": [
       "0.825396683221926"
      ]
     },
     "execution_count": 295,
     "metadata": {},
     "output_type": "execute_result"
    }
   ],
   "source": [
    "model2.score(mxtest,mytest)"
   ]
  },
  {
   "cell_type": "code",
   "execution_count": 296,
   "metadata": {},
   "outputs": [
    {
     "data": {
      "text/plain": [
       "<matplotlib.legend.Legend at 0x1c0c10e93a0>"
      ]
     },
     "execution_count": 296,
     "metadata": {},
     "output_type": "execute_result"
    },
    {
     "data": {
      "image/png": "[encoded data removed]",
      "text/plain": [
       "<Figure size 432x288 with 1 Axes>"
      ]
     },
     "metadata": {
      "needs_background": "light"
     },
     "output_type": "display_data"
    }
   ],
   "source": [
    "#plot\n",
    "plt.scatter(mxtrain['OverallQual'],mytrain, color = 'red', alpha = 0.4, s = 100, label = 'OverallQual')\n",
    "#plt.plot(xtrain,multi.predict(xtrain))\n",
    "plt.xlabel('Features of the House')\n",
    "plt.ylabel('Price of the House')\n",
    "plt.title('Multivariate Scatter Plot for Training Data')\n",
    "plt.legend()"
   ]
  },
  {
   "cell_type": "code",
   "execution_count": 297,
   "metadata": {},
   "outputs": [
    {
     "data": {
      "text/plain": [
       "<matplotlib.legend.Legend at 0x1c0c2322790>"
      ]
     },
     "execution_count": 297,
     "metadata": {},
     "output_type": "execute_result"
    },
    {
     "data": {
      "image/png": "[encoded data removed]",
      "text/plain": [
       "<Figure size 432x288 with 1 Axes>"
      ]
     },
     "metadata": {
      "needs_background": "light"
     },
     "output_type": "display_data"
    }
   ],
   "source": [
    "plt.scatter(mxtrain['1stFlrSF'], mytrain, color = 'green', alpha = 0.4, s = 90, label = '1st Floor')\n",
    "#plt.plot(xtrain,multi.predict(xtrain))\n",
    "plt.xlabel('Features of the House')\n",
    "plt.ylabel('Price of the House')\n",
    "plt.title('Multivariate Scatter Plot for Training Data')\n",
    "plt.legend()"
   ]
  },
  {
   "cell_type": "code",
   "execution_count": 289,
   "metadata": {},
   "outputs": [
    {
     "data": {
      "text/plain": [
       "<matplotlib.legend.Legend at 0x1c0bf9a2eb0>"
      ]
     },
     "execution_count": 289,
     "metadata": {},
     "output_type": "execute_result"
    },
    {
     "data": {
      "image/png": "[encoded data removed]",
      "text/plain": [
       "<Figure size 432x288 with 1 Axes>"
      ]
     },
     "metadata": {
      "needs_background": "light"
     },
     "output_type": "display_data"
    }
   ],
   "source": [
    "plt.scatter(mxtrain['FullBath'], mytrain, color = 'yellow', alpha = 0.4, s = 90, label = '1st Floor')\n",
    "#plt.plot(xtrain,multi.predict(xtrain))\n",
    "plt.xlabel('Features of the House')\n",
    "plt.ylabel('Price of the House')\n",
    "plt.title('Multivariate Scatter Plot for Training Data')\n",
    "plt.legend()"
   ]
  },
  {
   "cell_type": "markdown",
   "metadata": {},
   "source": [
    "# Polynomial Reg"
   ]
  },
  {
   "cell_type": "code",
   "execution_count": 349,
   "metadata": {},
   "outputs": [],
   "source": [
    "x3= df1[['OverallQual', '1stFlrSF', 'GrLivArea', 'FullBath', 'GarageCars', 'GarageArea']]\n",
    "y3= df1[['SalePrice']]"
   ]
  },
  {
   "cell_type": "code",
   "execution_count": 350,
   "metadata": {},
   "outputs": [],
   "source": [
    "pxtrain, pxtest, pytrain, pytest = train_test_split(x3,y3, random_state = 50, shuffle  = True, test_size = 0.2)"
   ]
  },
  {
   "cell_type": "code",
   "execution_count": 351,
   "metadata": {},
   "outputs": [],
   "source": [
    "from sklearn.linear_model import LinearRegression"
   ]
  },
  {
   "cell_type": "code",
   "execution_count": 352,
   "metadata": {},
   "outputs": [
    {
     "data": {
      "text/plain": [
       "LinearRegression()"
      ]
     },
     "execution_count": 352,
     "metadata": {},
     "output_type": "execute_result"
    }
   ],
   "source": [
    "model3=LinearRegression()\n",
    "model3.fit(pxtrain,pytrain)"
   ]
  },
  {
   "cell_type": "code",
   "execution_count": 354,
   "metadata": {},
   "outputs": [
    {
     "name": "stdout",
     "output_type": "stream",
     "text": [
      "Training data is ((1168, 6), (1168, 1))\n",
      "Testing data is ((292, 6), (292, 1)) \n"
     ]
    }
   ],
   "source": [
    "print(f'Training data is {pxtrain.shape, pytrain.shape}')\n",
    "print(f'Testing data is {pxtest.shape, pytest.shape} ')"
   ]
  },
  {
   "cell_type": "code",
   "execution_count": 328,
   "metadata": {},
   "outputs": [],
   "source": [
    "from sklearn.preprocessing import PolynomialFeatures\n",
    "poly = PolynomialFeatures(degree = 2)\n"
   ]
  },
  {
   "cell_type": "code",
   "execution_count": 329,
   "metadata": {},
   "outputs": [],
   "source": [
    "xtra = poly.fit_transform(xtrain)\n",
    "xtra_test = poly.fit_transform(xtest)"
   ]
  },
  {
   "cell_type": "code",
   "execution_count": 330,
   "metadata": {},
   "outputs": [
    {
     "data": {
      "text/plain": [
       "PolynomialFeatures()"
      ]
     },
     "execution_count": 330,
     "metadata": {},
     "output_type": "execute_result"
    }
   ],
   "source": [
    "poly.fit(xtra, ytrain)"
   ]
  },
  {
   "cell_type": "code",
   "execution_count": 331,
   "metadata": {},
   "outputs": [
    {
     "name": "stdout",
     "output_type": "stream",
     "text": [
      "After transformation our Training data has a shape of ((1168, 3), (1168, 1))\n",
      "After transformation our testing data has a shape of ((292, 3), (292, 1))\n"
     ]
    }
   ],
   "source": [
    "print(f'After transformation our Training data has a shape of {xtra.shape, ytrain.shape}')\n",
    "print(f'After transformation our testing data has a shape of {xtra_test.shape, ytest.shape}')"
   ]
  },
  {
   "cell_type": "code",
   "execution_count": 345,
   "metadata": {},
   "outputs": [
    {
     "data": {
      "text/plain": [
       "LinearRegression()"
      ]
     },
     "execution_count": 345,
     "metadata": {},
     "output_type": "execute_result"
    }
   ],
   "source": [
    "pol=LinearRegression()\n",
    "pol.fit(xtra,ytrain)"
   ]
  },
  {
   "cell_type": "code",
   "execution_count": 346,
   "metadata": {},
   "outputs": [
    {
     "name": "stdout",
     "output_type": "stream",
     "text": [
      "[[213040.24653029]\n",
      " [158963.57710781]\n",
      " [123458.21789346]\n",
      " [161204.09675998]\n",
      " [281092.07273903]\n",
      " [281092.07273903]\n",
      " [172756.44824648]\n",
      " [104587.81680076]\n",
      " [171135.20343735]\n",
      " [173565.5362851 ]\n",
      " [205419.17438333]\n",
      " [162850.18368441]\n",
      " [177939.87974805]\n",
      " [193907.555043  ]\n",
      " [140404.14444906]\n",
      " [233106.19746749]\n",
      " [215306.62141709]\n",
      " [122961.10290998]\n",
      " [208697.87359688]\n",
      " [159081.68707631]\n",
      " [297780.85033216]\n",
      " [142464.1823557 ]\n",
      " [148248.19384009]\n",
      " [164257.85872048]\n",
      " [216490.09603935]\n",
      " [147407.68783213]\n",
      " [200023.56069799]\n",
      " [ 91228.61210577]\n",
      " [194242.78365817]\n",
      " [229656.35285408]\n",
      " [125938.78263636]\n",
      " [146926.93941872]\n",
      " [109792.37324506]\n",
      " [198583.65843487]\n",
      " [141131.9055504 ]\n",
      " [ 83287.86763977]\n",
      " [182284.07866101]\n",
      " [211849.42365208]\n",
      " [295879.65454018]\n",
      " [164023.45497174]\n",
      " [200576.42985301]\n",
      " [166830.78876466]\n",
      " [146686.43995766]\n",
      " [211198.81923825]\n",
      " [180230.05785944]\n",
      " [245662.78846244]\n",
      " [253427.91060857]\n",
      " [130997.8352625 ]\n",
      " [ 90969.4914961 ]\n",
      " [149806.41972464]\n",
      " [214875.64073719]\n",
      " [ 49251.86920272]\n",
      " [193683.96492091]\n",
      " [138946.36766786]\n",
      " [241989.88051577]\n",
      " [211849.42365208]\n",
      " [163202.38426574]\n",
      " [158136.22280794]\n",
      " [118847.15966485]\n",
      " [130997.8352625 ]\n",
      " [129520.76930942]\n",
      " [210112.80849035]\n",
      " [150285.16406824]\n",
      " [210547.46329824]\n",
      " [181372.01555606]\n",
      " [165896.34688022]\n",
      " [225338.51379571]\n",
      " [149087.67693743]\n",
      " [117220.27351374]\n",
      " [192564.76176687]\n",
      " [152673.87561172]\n",
      " [107638.64507502]\n",
      " [119971.39876478]\n",
      " [128657.7592676 ]\n",
      " [177021.47042205]\n",
      " [199912.92423981]\n",
      " [224491.91697107]\n",
      " [159081.68707631]\n",
      " [297871.15383211]\n",
      " [188067.07342356]\n",
      " [204870.89788828]\n",
      " [232271.95907332]\n",
      " [179658.29617136]\n",
      " [174834.8936488 ]\n",
      " [167647.32943787]\n",
      " [136143.89302371]\n",
      " [146806.70012605]\n",
      " [120969.30285972]\n",
      " [230075.7266297 ]\n",
      " [136754.06604972]\n",
      " [122961.10290998]\n",
      " [116718.98338483]\n",
      " [176561.7647416 ]\n",
      " [108906.27464902]\n",
      " [318769.6602653 ]\n",
      " [121965.87090812]\n",
      " [255922.4376104 ]\n",
      " [220772.3468786 ]\n",
      " [217885.49125222]\n",
      " [181372.01555606]\n",
      " [220878.97519717]\n",
      " [175871.57994911]\n",
      " [ 99219.93356298]\n",
      " [105351.65115859]\n",
      " [186032.2165395 ]\n",
      " [226500.4029161 ]\n",
      " [199580.88961089]\n",
      " [220025.36412821]\n",
      " [128410.99708839]\n",
      " [127423.11334248]\n",
      " [174027.41304117]\n",
      " [265282.64857269]\n",
      " [232063.1907175 ]\n",
      " [167530.74339745]\n",
      " [149806.41972464]\n",
      " [131366.63204691]\n",
      " [218314.13385068]\n",
      " [280715.5359555 ]\n",
      " [ 99219.93356298]\n",
      " [149806.41972464]\n",
      " [103313.08947953]\n",
      " [248803.89086277]\n",
      " [107638.64507502]\n",
      " [186484.99147854]\n",
      " [200907.9008373 ]\n",
      " [164609.30777564]\n",
      " [106750.06226746]\n",
      " [200465.89777346]\n",
      " [247691.60247006]\n",
      " [148368.18262404]\n",
      " [101269.18361433]\n",
      " [187954.20326257]\n",
      " [220452.33666851]\n",
      " [198250.87227977]\n",
      " [159789.90849704]\n",
      " [182170.14383793]\n",
      " [ 60344.85003664]\n",
      " [296061.1174449 ]\n",
      " [117470.79332383]\n",
      " [165545.58672406]\n",
      " [252526.68690165]\n",
      " [111435.27107888]\n",
      " [250517.91359209]\n",
      " [244237.65023405]\n",
      " [188292.75111835]\n",
      " [109159.5500551 ]\n",
      " [181372.01555606]\n",
      " [136510.0594665 ]\n",
      " [275980.64392973]\n",
      " [203002.85404414]\n",
      " [231540.90450274]\n",
      " [183990.59591985]\n",
      " [245662.78846244]\n",
      " [202452.28121911]\n",
      " [120969.30285972]\n",
      " [129397.54478777]\n",
      " [207497.86539873]\n",
      " [250316.57699513]\n",
      " [178169.27332227]\n",
      " [237153.97703517]\n",
      " [118472.03753511]\n",
      " [292415.99379791]\n",
      " [241170.00462187]\n",
      " [177251.19800791]\n",
      " [191780.07745328]\n",
      " [296967.17942486]\n",
      " [196250.20983677]\n",
      " [189870.15690049]\n",
      " [298953.16752482]\n",
      " [196250.20983677]\n",
      " [111435.27107888]\n",
      " [193572.13854628]\n",
      " [137241.82870745]\n",
      " [179658.29617136]\n",
      " [120719.95209035]\n",
      " [228080.72640439]\n",
      " [138459.77405085]\n",
      " [306178.13152438]\n",
      " [228291.08131547]\n",
      " [ 54951.17548455]\n",
      " [140646.81498575]\n",
      " [159081.68707631]\n",
      " [169858.49781769]\n",
      " [182739.60919603]\n",
      " [144276.85268704]\n",
      " [272731.10681386]\n",
      " [206295.3312376 ]\n",
      " [196917.84884395]\n",
      " [114710.48275286]\n",
      " [149087.67693743]\n",
      " [137363.71718256]\n",
      " [158963.57710781]\n",
      " [ 97550.98282169]\n",
      " [111182.74719898]\n",
      " [249409.52896035]\n",
      " [198250.87227977]\n",
      " [171251.14233022]\n",
      " [167647.32943787]\n",
      " [239937.68569375]\n",
      " [181600.15658666]\n",
      " [181828.21411435]\n",
      " [303429.20053407]\n",
      " [182511.88567997]\n",
      " [314995.1684441 ]\n",
      " [196584.12328113]\n",
      " [139675.63182155]\n",
      " [242399.31744527]\n",
      " [268877.22589549]\n",
      " [186032.2165395 ]\n",
      " [125195.48999403]\n",
      " [108906.27464902]\n",
      " [110424.67454184]\n",
      " [162145.2188771 ]\n",
      " [131489.52255693]\n",
      " [234043.11866781]\n",
      " [127423.11334248]\n",
      " [262935.74981753]\n",
      " [120969.30285972]\n",
      " [ 97165.33932548]\n",
      " [169974.66634357]\n",
      " [140161.39040947]\n",
      " [205419.17438333]\n",
      " [116342.79659302]\n",
      " [198472.75059223]\n",
      " [ 85247.71184744]\n",
      " [120969.30285972]\n",
      " [212715.72716314]\n",
      " [197251.38652522]\n",
      " [277880.86345818]\n",
      " [105351.65115859]\n",
      " [242603.91065566]\n",
      " [208043.63680653]\n",
      " [112822.65980382]\n",
      " [231645.40349715]\n",
      " [215306.62141709]\n",
      " [131366.63204691]\n",
      " [234666.79339364]\n",
      " [180801.29765434]\n",
      " [212715.72716314]\n",
      " [105351.65115859]\n",
      " [108145.94741335]\n",
      " [122339.23947677]\n",
      " [153150.61588552]\n",
      " [313439.40949787]\n",
      " [230180.51788428]\n",
      " [287534.75673613]\n",
      " [157781.3292578 ]\n",
      " [256320.35113852]\n",
      " [126681.32375251]\n",
      " [181600.15658666]\n",
      " [223007.15766597]\n",
      " [190320.09274064]\n",
      " [105351.65115859]\n",
      " [109159.5500551 ]\n",
      " [153627.02214768]\n",
      " [209133.61394258]\n",
      " [347354.64563864]\n",
      " [121218.57012618]\n",
      " [188518.34531024]\n",
      " [146926.93941872]\n",
      " [145964.44055701]\n",
      " [200023.56069799]\n",
      " [109032.92278992]\n",
      " [141131.9055504 ]\n",
      " [127423.11334248]\n",
      " [110803.80481118]\n",
      " [149806.41972464]\n",
      " [165311.64224132]\n",
      " [111561.50170523]\n",
      " [118722.13983066]\n",
      " [182625.75787586]\n",
      " [211849.42365208]\n",
      " [118472.03753511]\n",
      " [168812.04167708]\n",
      " [205309.56083578]\n",
      " [206623.54560845]\n",
      " [160025.81529814]\n",
      " [154816.57650218]\n",
      " [216597.55938701]\n",
      " [200907.9008373 ]\n",
      " [109159.5500551 ]\n",
      " [137607.4315056 ]\n",
      " [275408.94976448]\n",
      " [157307.84559744]\n",
      " [154816.57650218]\n",
      " [311180.26121517]\n",
      " [212174.44403668]\n",
      " [145964.44055701]\n",
      " [198583.65843487]\n",
      " [255125.60851926]\n",
      " [178856.9530275 ]\n",
      " [137851.06232574]]\n"
     ]
    }
   ],
   "source": [
    "predictions = pol.predict(xtra_test)\n",
    "print(predictions)"
   ]
  },
  {
   "cell_type": "code",
   "execution_count": 348,
   "metadata": {},
   "outputs": [
    {
     "name": "stdout",
     "output_type": "stream",
     "text": [
      "0.5034301352646027\n"
     ]
    }
   ],
   "source": [
    "print(poly.score(xtra, ytrain))"
   ]
  },
  {
   "cell_type": "code",
   "execution_count": null,
   "metadata": {},
   "outputs": [],
   "source": []
  },
  {
   "cell_type": "code",
   "execution_count": null,
   "metadata": {},
   "outputs": [],
   "source": []
  }
 ],
 "metadata": {
  "kernelspec": {
   "display_name": "Python 3",
   "language": "python",
   "name": "python3"
  },
  "language_info": {
   "codemirror_mode": {
    "name": "ipython",
    "version": 3
   },
   "file_extension": ".py",
   "mimetype": "text/x-python",
   "name": "python",
   "nbconvert_exporter": "python",
   "pygments_lexer": "ipython3",
   "version": "3.8.3"
  }
 },
 "nbformat": 4,
 "nbformat_minor": 4
}
